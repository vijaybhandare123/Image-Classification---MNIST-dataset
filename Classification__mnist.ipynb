{
  "nbformat": 4,
  "nbformat_minor": 0,
  "metadata": {
    "colab": {
      "name": "Classification _mnist.ipynb",
      "provenance": []
    },
    "kernelspec": {
      "name": "python3",
      "display_name": "Python 3"
    }
  },
  "cells": [
    {
      "cell_type": "code",
      "metadata": {
        "id": "9jVekM9ZdxL8"
      },
      "source": [
        "import os\r\n",
        "import zipfile\r\n",
        "import tensorflow as tf\r\n",
        "from tensorflow.keras.preprocessing.image import ImageDataGenerator\r\n",
        "from tensorflow.keras import layers\r\n",
        "from tensorflow.keras import Model\r\n",
        "import matplotlib.pyplot as plt\r\n",
        "from tensorflow import keras\r\n"
      ],
      "execution_count": 33,
      "outputs": []
    },
    {
      "cell_type": "code",
      "metadata": {
        "id": "bRQHIrmvd_Nl"
      },
      "source": [
        "train_datagen = ImageDataGenerator(rescale=1./255 , rotation_range=40 , horizontal_flip=True , width_shift_range=0.2 , height_shift_range= 0.2 , shear_range=0.2)"
      ],
      "execution_count": 34,
      "outputs": []
    },
    {
      "cell_type": "code",
      "metadata": {
        "id": "MfoifjRQe2L_"
      },
      "source": [
        "(x_train,y_train) , (x_test, y_test) = keras.datasets.mnist.load_data()"
      ],
      "execution_count": 35,
      "outputs": []
    },
    {
      "cell_type": "code",
      "metadata": {
        "colab": {
          "base_uri": "https://localhost:8080/"
        },
        "id": "Ol9EIUlvijdi",
        "outputId": "5314722c-f654-4722-df0c-62d15dece982"
      },
      "source": [
        "x_train.shape"
      ],
      "execution_count": 36,
      "outputs": [
        {
          "output_type": "execute_result",
          "data": {
            "text/plain": [
              "(60000, 28, 28)"
            ]
          },
          "metadata": {
            "tags": []
          },
          "execution_count": 36
        }
      ]
    },
    {
      "cell_type": "code",
      "metadata": {
        "id": "igTofYnPiqba"
      },
      "source": [
        "x_train = x_train.astype(\"float32\") / 255\r\n",
        "x_test = x_test.astype(\"float32\") / 255"
      ],
      "execution_count": 37,
      "outputs": []
    },
    {
      "cell_type": "code",
      "metadata": {
        "id": "lb3epKGT4_pV"
      },
      "source": [
        "x_train = np.expand_dims(x_train , -1)\r\n",
        "x_test = np.expand_dims(x_test ,-1)"
      ],
      "execution_count": 38,
      "outputs": []
    },
    {
      "cell_type": "code",
      "metadata": {
        "id": "7tuC49iWnsBj"
      },
      "source": [
        "import numpy as np"
      ],
      "execution_count": 39,
      "outputs": []
    },
    {
      "cell_type": "code",
      "metadata": {
        "colab": {
          "base_uri": "https://localhost:8080/"
        },
        "id": "M4RG6_pAnLRW",
        "outputId": "47b1118f-ee5c-4242-966d-62878b069573"
      },
      "source": [
        "np.unique(y_train)"
      ],
      "execution_count": 40,
      "outputs": [
        {
          "output_type": "execute_result",
          "data": {
            "text/plain": [
              "array([0, 1, 2, 3, 4, 5, 6, 7, 8, 9], dtype=uint8)"
            ]
          },
          "metadata": {
            "tags": []
          },
          "execution_count": 40
        }
      ]
    },
    {
      "cell_type": "code",
      "metadata": {
        "id": "dLZ5BWS3zwjD"
      },
      "source": [
        "y_train = keras.utils.to_categorical(y_train, 10)\r\n",
        "y_test = keras.utils.to_categorical (y_test , 10)\r\n",
        "\r\n"
      ],
      "execution_count": 41,
      "outputs": []
    },
    {
      "cell_type": "code",
      "metadata": {
        "id": "u-CQuKDj0xzW"
      },
      "source": [
        "### Building a model \r\n",
        "\r\n",
        "model = keras.Sequential([\r\n",
        "                          keras.Input(shape=(28,28,1)),\r\n",
        "                          keras.layers.Conv2D (32 , kernel_size=(3 , 3),activation='relu'),\r\n",
        "                          keras.layers.MaxPooling2D(pool_size=(2,2)),\r\n",
        "                          keras.layers.Conv2D(64 , kernel_size=(3,3),activation = 'relu'),\r\n",
        "                          keras.layers.MaxPooling2D(pool_size=(2,2)),\r\n",
        "                          keras.layers.Flatten(),\r\n",
        "                          keras.layers.Dropout(0.2),\r\n",
        "                          keras.layers.Dense(10 , activation='softmax')\r\n",
        "                          ])\r\n"
      ],
      "execution_count": 42,
      "outputs": []
    },
    {
      "cell_type": "code",
      "metadata": {
        "colab": {
          "base_uri": "https://localhost:8080/"
        },
        "id": "BqO5hHGr3nBL",
        "outputId": "8150067f-9600-439e-9361-a1aecb11a802"
      },
      "source": [
        "model.summary()"
      ],
      "execution_count": 43,
      "outputs": [
        {
          "output_type": "stream",
          "text": [
            "Model: \"sequential_1\"\n",
            "_________________________________________________________________\n",
            "Layer (type)                 Output Shape              Param #   \n",
            "=================================================================\n",
            "conv2d_2 (Conv2D)            (None, 26, 26, 32)        320       \n",
            "_________________________________________________________________\n",
            "max_pooling2d_2 (MaxPooling2 (None, 13, 13, 32)        0         \n",
            "_________________________________________________________________\n",
            "conv2d_3 (Conv2D)            (None, 11, 11, 64)        18496     \n",
            "_________________________________________________________________\n",
            "max_pooling2d_3 (MaxPooling2 (None, 5, 5, 64)          0         \n",
            "_________________________________________________________________\n",
            "flatten_1 (Flatten)          (None, 1600)              0         \n",
            "_________________________________________________________________\n",
            "dropout_1 (Dropout)          (None, 1600)              0         \n",
            "_________________________________________________________________\n",
            "dense_1 (Dense)              (None, 10)                16010     \n",
            "=================================================================\n",
            "Total params: 34,826\n",
            "Trainable params: 34,826\n",
            "Non-trainable params: 0\n",
            "_________________________________________________________________\n"
          ],
          "name": "stdout"
        }
      ]
    },
    {
      "cell_type": "code",
      "metadata": {
        "colab": {
          "base_uri": "https://localhost:8080/"
        },
        "id": "5rJd0L1a3v-J",
        "outputId": "5de3e40d-8302-4902-e770-cee8c1cab914"
      },
      "source": [
        "model.compile(optimizer=\"adam\" , loss=\"categorical_crossentropy\" ,metrics= ['acc'])\r\n",
        "\r\n",
        "model.fit(x_train , y_train , batch_size=100 , epochs= 10 ,validation_split=0.2)\r\n"
      ],
      "execution_count": 44,
      "outputs": [
        {
          "output_type": "stream",
          "text": [
            "Epoch 1/10\n",
            "480/480 [==============================] - 37s 77ms/step - loss: 0.6683 - acc: 0.7967 - val_loss: 0.0930 - val_acc: 0.9742\n",
            "Epoch 2/10\n",
            "480/480 [==============================] - 37s 76ms/step - loss: 0.0940 - acc: 0.9708 - val_loss: 0.0651 - val_acc: 0.9805\n",
            "Epoch 3/10\n",
            "480/480 [==============================] - 37s 76ms/step - loss: 0.0650 - acc: 0.9789 - val_loss: 0.0519 - val_acc: 0.9850\n",
            "Epoch 4/10\n",
            "480/480 [==============================] - 37s 77ms/step - loss: 0.0560 - acc: 0.9827 - val_loss: 0.0498 - val_acc: 0.9856\n",
            "Epoch 5/10\n",
            "480/480 [==============================] - 37s 77ms/step - loss: 0.0424 - acc: 0.9875 - val_loss: 0.0448 - val_acc: 0.9870\n",
            "Epoch 6/10\n",
            "480/480 [==============================] - 37s 77ms/step - loss: 0.0414 - acc: 0.9868 - val_loss: 0.0406 - val_acc: 0.9883\n",
            "Epoch 7/10\n",
            "480/480 [==============================] - 37s 76ms/step - loss: 0.0359 - acc: 0.9892 - val_loss: 0.0422 - val_acc: 0.9880\n",
            "Epoch 8/10\n",
            "480/480 [==============================] - 36s 76ms/step - loss: 0.0298 - acc: 0.9904 - val_loss: 0.0428 - val_acc: 0.9879\n",
            "Epoch 9/10\n",
            "480/480 [==============================] - 37s 76ms/step - loss: 0.0279 - acc: 0.9910 - val_loss: 0.0409 - val_acc: 0.9878\n",
            "Epoch 10/10\n",
            "480/480 [==============================] - 37s 76ms/step - loss: 0.0263 - acc: 0.9917 - val_loss: 0.0423 - val_acc: 0.9878\n"
          ],
          "name": "stdout"
        },
        {
          "output_type": "execute_result",
          "data": {
            "text/plain": [
              "<tensorflow.python.keras.callbacks.History at 0x7f4a39650850>"
            ]
          },
          "metadata": {
            "tags": []
          },
          "execution_count": 44
        }
      ]
    },
    {
      "cell_type": "code",
      "metadata": {
        "colab": {
          "base_uri": "https://localhost:8080/"
        },
        "id": "ddVCInXN7Fsv",
        "outputId": "f6744320-56e2-43e0-f31f-b7ea4a25baad"
      },
      "source": [
        "# Evaluating the model \r\n",
        "\r\n",
        "loss , acc = model.evaluate(x_test , y_test , verbose= 0)\r\n",
        "\r\n",
        "print('Loss :' , loss)\r\n",
        "print('Accuracy :' , acc)\r\n",
        "\r\n"
      ],
      "execution_count": 45,
      "outputs": [
        {
          "output_type": "stream",
          "text": [
            "Loss : 0.0327136404812336\n",
            "Accuracy : 0.9897000193595886\n"
          ],
          "name": "stdout"
        }
      ]
    }
  ]
}